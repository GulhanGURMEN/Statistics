{
 "cells": [
  {
   "cell_type": "markdown",
   "metadata": {
    "id": "PLvbFzH4cnRd"
   },
   "source": [
    "# Chi-Squared Goodness-Of-Fit Test"
   ]
  },
  {
   "cell_type": "markdown",
   "metadata": {
    "id": "70CRydozp5lX"
   },
   "source": [
    "**The chi-squared goodness-of-fit test is an analog of the one-way t-test for categorical variables: it tests whether the distribution of sample categorical data matches an expected distribution.**"
   ]
  },
  {
   "cell_type": "markdown",
   "metadata": {},
   "source": [
    "**For example, you could use a chi-squared goodness-of-fit test to check whether the race demographics of members at your church or school match that of the entire U.S. population or whether the computer browser preferences of your friends match those of Internet uses as a whole.**"
   ]
  },
  {
   "cell_type": "markdown",
   "metadata": {
    "id": "0pt32y7psQnn"
   },
   "source": [
    "**When working with categorical data the values the observations themselves aren't of much use for statistical testing because categories like \"male\", \"female,\" and \"other\" have no mathematical meaning.**\n",
    "\n",
    "**Tests dealing with categorical variables are based on variable counts instead of the actual value of the variables themselves.**"
   ]
  },
  {
   "cell_type": "markdown",
   "metadata": {
    "id": "PCKs6psOtQfE"
   },
   "source": [
    "## Generating some fake demographic data for U.S. and Minnesota and performing a Chi-Square test to check whether they are different :"
   ]
  },
  {
   "cell_type": "code",
   "execution_count": 1,
   "metadata": {
    "id": "PjYs71LHp5HP"
   },
   "outputs": [],
   "source": [
    "# Import related libraies.\n",
    "\n",
    "import numpy as np\n",
    "import pandas as pd\n",
    "import scipy.stats as stats"
   ]
  },
  {
   "cell_type": "code",
   "execution_count": 2,
   "metadata": {
    "colab": {
     "base_uri": "https://localhost:8080/"
    },
    "id": "kSJq6W8EuoHU",
    "outputId": "488ed2bd-a330-4978-bead-27cd8f342368"
   },
   "outputs": [
    {
     "data": {
      "text/plain": [
       "['white', 'white', 'white']"
      ]
     },
     "execution_count": 2,
     "metadata": {},
     "output_type": "execute_result"
    }
   ],
   "source": [
    "a = [\"white\"]*3\n",
    "a"
   ]
  },
  {
   "cell_type": "code",
   "execution_count": 3,
   "metadata": {
    "colab": {
     "base_uri": "https://localhost:8080/"
    },
    "id": "irlzCRa2uxoR",
    "outputId": "c26945fd-4008-4116-c447-fd38be0ca3a9"
   },
   "outputs": [
    {
     "data": {
      "text/plain": [
       "list"
      ]
     },
     "execution_count": 3,
     "metadata": {},
     "output_type": "execute_result"
    }
   ],
   "source": [
    "type(a)"
   ]
  },
  {
   "cell_type": "code",
   "execution_count": 4,
   "metadata": {
    "colab": {
     "base_uri": "https://localhost:8080/"
    },
    "id": "kT2ZudgSu1dh",
    "outputId": "79fd8659-f34e-4880-b839-1feb1566f706"
   },
   "outputs": [
    {
     "data": {
      "text/plain": [
       "['white', 'white', 'white', 'hispanic', 'hispanic', 'hispanic', 'hispanic']"
      ]
     },
     "execution_count": 4,
     "metadata": {},
     "output_type": "execute_result"
    }
   ],
   "source": [
    "b = [\"white\"]*3 + [\"hispanic\"]*4\n",
    "b"
   ]
  },
  {
   "cell_type": "code",
   "execution_count": 5,
   "metadata": {
    "colab": {
     "base_uri": "https://localhost:8080/",
     "height": 269
    },
    "id": "OiaHQk-cvB6t",
    "outputId": "b98b2dc7-6972-495d-9287-dd7dd8ca194f"
   },
   "outputs": [
    {
     "data": {
      "text/html": [
       "<div>\n",
       "<style scoped>\n",
       "    .dataframe tbody tr th:only-of-type {\n",
       "        vertical-align: middle;\n",
       "    }\n",
       "\n",
       "    .dataframe tbody tr th {\n",
       "        vertical-align: top;\n",
       "    }\n",
       "\n",
       "    .dataframe thead th {\n",
       "        text-align: right;\n",
       "    }\n",
       "</style>\n",
       "<table border=\"1\" class=\"dataframe\">\n",
       "  <thead>\n",
       "    <tr style=\"text-align: right;\">\n",
       "      <th></th>\n",
       "      <th>0</th>\n",
       "    </tr>\n",
       "  </thead>\n",
       "  <tbody>\n",
       "    <tr>\n",
       "      <th>0</th>\n",
       "      <td>white</td>\n",
       "    </tr>\n",
       "    <tr>\n",
       "      <th>1</th>\n",
       "      <td>white</td>\n",
       "    </tr>\n",
       "    <tr>\n",
       "      <th>2</th>\n",
       "      <td>white</td>\n",
       "    </tr>\n",
       "    <tr>\n",
       "      <th>3</th>\n",
       "      <td>hispanic</td>\n",
       "    </tr>\n",
       "    <tr>\n",
       "      <th>4</th>\n",
       "      <td>hispanic</td>\n",
       "    </tr>\n",
       "    <tr>\n",
       "      <th>5</th>\n",
       "      <td>hispanic</td>\n",
       "    </tr>\n",
       "    <tr>\n",
       "      <th>6</th>\n",
       "      <td>hispanic</td>\n",
       "    </tr>\n",
       "  </tbody>\n",
       "</table>\n",
       "</div>"
      ],
      "text/plain": [
       "          0\n",
       "0     white\n",
       "1     white\n",
       "2     white\n",
       "3  hispanic\n",
       "4  hispanic\n",
       "5  hispanic\n",
       "6  hispanic"
      ]
     },
     "execution_count": 5,
     "metadata": {},
     "output_type": "execute_result"
    }
   ],
   "source": [
    "c = pd.DataFrame(b)\n",
    "c"
   ]
  },
  {
   "cell_type": "code",
   "execution_count": 6,
   "metadata": {
    "colab": {
     "base_uri": "https://localhost:8080/"
    },
    "id": "aGKkI6x-vNJf",
    "outputId": "bc067fe5-8c16-4fca-a5e4-1ef924d9c4ec"
   },
   "outputs": [
    {
     "data": {
      "text/plain": [
       "0       white\n",
       "1       white\n",
       "2       white\n",
       "3    hispanic\n",
       "4    hispanic\n",
       "5    hispanic\n",
       "6    hispanic\n",
       "Name: 0, dtype: object"
      ]
     },
     "execution_count": 6,
     "metadata": {},
     "output_type": "execute_result"
    }
   ],
   "source": [
    "c[0]"
   ]
  },
  {
   "cell_type": "code",
   "execution_count": 7,
   "metadata": {
    "colab": {
     "base_uri": "https://localhost:8080/",
     "height": 143
    },
    "id": "w2r_8rSPvhcN",
    "outputId": "416ab1e2-69bf-41df-f170-ebcb2731d8cb"
   },
   "outputs": [
    {
     "data": {
      "text/html": [
       "<div>\n",
       "<style scoped>\n",
       "    .dataframe tbody tr th:only-of-type {\n",
       "        vertical-align: middle;\n",
       "    }\n",
       "\n",
       "    .dataframe tbody tr th {\n",
       "        vertical-align: top;\n",
       "    }\n",
       "\n",
       "    .dataframe thead th {\n",
       "        text-align: right;\n",
       "    }\n",
       "</style>\n",
       "<table border=\"1\" class=\"dataframe\">\n",
       "  <thead>\n",
       "    <tr style=\"text-align: right;\">\n",
       "      <th>col_0</th>\n",
       "      <th>count</th>\n",
       "    </tr>\n",
       "    <tr>\n",
       "      <th>0</th>\n",
       "      <th></th>\n",
       "    </tr>\n",
       "  </thead>\n",
       "  <tbody>\n",
       "    <tr>\n",
       "      <th>hispanic</th>\n",
       "      <td>4</td>\n",
       "    </tr>\n",
       "    <tr>\n",
       "      <th>white</th>\n",
       "      <td>3</td>\n",
       "    </tr>\n",
       "  </tbody>\n",
       "</table>\n",
       "</div>"
      ],
      "text/plain": [
       "col_0     count\n",
       "0              \n",
       "hispanic      4\n",
       "white         3"
      ]
     },
     "execution_count": 7,
     "metadata": {},
     "output_type": "execute_result"
    }
   ],
   "source": [
    "c_table = pd.crosstab(index=c[0], columns=\"count\")\n",
    "c_table"
   ]
  },
  {
   "cell_type": "code",
   "execution_count": 8,
   "metadata": {
    "colab": {
     "base_uri": "https://localhost:8080/"
    },
    "id": "V0-kfT63v89B",
    "outputId": "fa073e02-9837-4448-d2cc-40ff3b73921b"
   },
   "outputs": [
    {
     "name": "stdout",
     "output_type": "stream",
     "text": [
      "col_0     count\n",
      "0              \n",
      "hispanic      4\n",
      "white         3\n"
     ]
    }
   ],
   "source": [
    "print(c_table)"
   ]
  },
  {
   "cell_type": "code",
   "execution_count": 9,
   "metadata": {
    "colab": {
     "base_uri": "https://localhost:8080/"
    },
    "id": "j3APIeYlp5J1",
    "outputId": "1d8fdac6-eb0c-4b1d-ffc9-83233213b345"
   },
   "outputs": [
    {
     "name": "stdout",
     "output_type": "stream",
     "text": [
      "National\n",
      "col_0      count\n",
      "0               \n",
      "asian      15000\n",
      "black      50000\n",
      "hispanic   60000\n",
      "other      35000\n",
      "white     100000\n",
      " \n",
      "Minnesota\n",
      "col_0     count\n",
      "0              \n",
      "asian        75\n",
      "black       250\n",
      "hispanic    300\n",
      "other       150\n",
      "white       600\n"
     ]
    }
   ],
   "source": [
    "# Fake demographic data\n",
    "\n",
    "national = pd.DataFrame([\"white\"]*100000 + [\"hispanic\"]*60000 +\\\n",
    "                        [\"black\"]*50000 + [\"asian\"]*15000 + [\"other\"]*35000)\n",
    "\n",
    "# Fake sample data\n",
    "\n",
    "minnesota = pd.DataFrame([\"white\"]*600 + [\"hispanic\"]*300 + \\\n",
    "                         [\"black\"]*250 +[\"asian\"]*75 + [\"other\"]*150)\n",
    "\n",
    "national_table = pd.crosstab(index=national[0], columns=\"count\")\n",
    "minnesota_table = pd.crosstab(index=minnesota[0], columns=\"count\")\n",
    "\n",
    "print( \"National\")\n",
    "print(national_table)\n",
    "print(\" \")\n",
    "print( \"Minnesota\")\n",
    "print(minnesota_table)"
   ]
  },
  {
   "cell_type": "code",
   "execution_count": 10,
   "metadata": {
    "colab": {
     "base_uri": "https://localhost:8080/",
     "height": 423
    },
    "id": "G7KHYS05uQY9",
    "outputId": "a5711ff0-7914-4bdd-b115-4a64a841fef1"
   },
   "outputs": [
    {
     "data": {
      "text/html": [
       "<div>\n",
       "<style scoped>\n",
       "    .dataframe tbody tr th:only-of-type {\n",
       "        vertical-align: middle;\n",
       "    }\n",
       "\n",
       "    .dataframe tbody tr th {\n",
       "        vertical-align: top;\n",
       "    }\n",
       "\n",
       "    .dataframe thead th {\n",
       "        text-align: right;\n",
       "    }\n",
       "</style>\n",
       "<table border=\"1\" class=\"dataframe\">\n",
       "  <thead>\n",
       "    <tr style=\"text-align: right;\">\n",
       "      <th></th>\n",
       "      <th>0</th>\n",
       "    </tr>\n",
       "  </thead>\n",
       "  <tbody>\n",
       "    <tr>\n",
       "      <th>0</th>\n",
       "      <td>white</td>\n",
       "    </tr>\n",
       "    <tr>\n",
       "      <th>1</th>\n",
       "      <td>white</td>\n",
       "    </tr>\n",
       "    <tr>\n",
       "      <th>2</th>\n",
       "      <td>white</td>\n",
       "    </tr>\n",
       "    <tr>\n",
       "      <th>3</th>\n",
       "      <td>white</td>\n",
       "    </tr>\n",
       "    <tr>\n",
       "      <th>4</th>\n",
       "      <td>white</td>\n",
       "    </tr>\n",
       "    <tr>\n",
       "      <th>...</th>\n",
       "      <td>...</td>\n",
       "    </tr>\n",
       "    <tr>\n",
       "      <th>259995</th>\n",
       "      <td>other</td>\n",
       "    </tr>\n",
       "    <tr>\n",
       "      <th>259996</th>\n",
       "      <td>other</td>\n",
       "    </tr>\n",
       "    <tr>\n",
       "      <th>259997</th>\n",
       "      <td>other</td>\n",
       "    </tr>\n",
       "    <tr>\n",
       "      <th>259998</th>\n",
       "      <td>other</td>\n",
       "    </tr>\n",
       "    <tr>\n",
       "      <th>259999</th>\n",
       "      <td>other</td>\n",
       "    </tr>\n",
       "  </tbody>\n",
       "</table>\n",
       "<p>260000 rows × 1 columns</p>\n",
       "</div>"
      ],
      "text/plain": [
       "            0\n",
       "0       white\n",
       "1       white\n",
       "2       white\n",
       "3       white\n",
       "4       white\n",
       "...       ...\n",
       "259995  other\n",
       "259996  other\n",
       "259997  other\n",
       "259998  other\n",
       "259999  other\n",
       "\n",
       "[260000 rows x 1 columns]"
      ]
     },
     "execution_count": 10,
     "metadata": {},
     "output_type": "execute_result"
    }
   ],
   "source": [
    "national"
   ]
  },
  {
   "cell_type": "code",
   "execution_count": 11,
   "metadata": {
    "colab": {
     "base_uri": "https://localhost:8080/"
    },
    "id": "ntwUmeBmxJBt",
    "outputId": "19a254c2-e32a-442d-89e0-884d56ae9c34"
   },
   "outputs": [
    {
     "data": {
      "text/plain": [
       "white       100000\n",
       "hispanic     60000\n",
       "black        50000\n",
       "other        35000\n",
       "asian        15000\n",
       "dtype: int64"
      ]
     },
     "execution_count": 11,
     "metadata": {},
     "output_type": "execute_result"
    }
   ],
   "source": [
    "national.value_counts()"
   ]
  },
  {
   "cell_type": "code",
   "execution_count": 12,
   "metadata": {
    "colab": {
     "base_uri": "https://localhost:8080/",
     "height": 423
    },
    "id": "liLVfW7duQg1",
    "outputId": "9bb2b77d-63e8-4ceb-d84e-31325487a243"
   },
   "outputs": [
    {
     "data": {
      "text/html": [
       "<div>\n",
       "<style scoped>\n",
       "    .dataframe tbody tr th:only-of-type {\n",
       "        vertical-align: middle;\n",
       "    }\n",
       "\n",
       "    .dataframe tbody tr th {\n",
       "        vertical-align: top;\n",
       "    }\n",
       "\n",
       "    .dataframe thead th {\n",
       "        text-align: right;\n",
       "    }\n",
       "</style>\n",
       "<table border=\"1\" class=\"dataframe\">\n",
       "  <thead>\n",
       "    <tr style=\"text-align: right;\">\n",
       "      <th></th>\n",
       "      <th>0</th>\n",
       "    </tr>\n",
       "  </thead>\n",
       "  <tbody>\n",
       "    <tr>\n",
       "      <th>0</th>\n",
       "      <td>white</td>\n",
       "    </tr>\n",
       "    <tr>\n",
       "      <th>1</th>\n",
       "      <td>white</td>\n",
       "    </tr>\n",
       "    <tr>\n",
       "      <th>2</th>\n",
       "      <td>white</td>\n",
       "    </tr>\n",
       "    <tr>\n",
       "      <th>3</th>\n",
       "      <td>white</td>\n",
       "    </tr>\n",
       "    <tr>\n",
       "      <th>4</th>\n",
       "      <td>white</td>\n",
       "    </tr>\n",
       "    <tr>\n",
       "      <th>...</th>\n",
       "      <td>...</td>\n",
       "    </tr>\n",
       "    <tr>\n",
       "      <th>1370</th>\n",
       "      <td>other</td>\n",
       "    </tr>\n",
       "    <tr>\n",
       "      <th>1371</th>\n",
       "      <td>other</td>\n",
       "    </tr>\n",
       "    <tr>\n",
       "      <th>1372</th>\n",
       "      <td>other</td>\n",
       "    </tr>\n",
       "    <tr>\n",
       "      <th>1373</th>\n",
       "      <td>other</td>\n",
       "    </tr>\n",
       "    <tr>\n",
       "      <th>1374</th>\n",
       "      <td>other</td>\n",
       "    </tr>\n",
       "  </tbody>\n",
       "</table>\n",
       "<p>1375 rows × 1 columns</p>\n",
       "</div>"
      ],
      "text/plain": [
       "          0\n",
       "0     white\n",
       "1     white\n",
       "2     white\n",
       "3     white\n",
       "4     white\n",
       "...     ...\n",
       "1370  other\n",
       "1371  other\n",
       "1372  other\n",
       "1373  other\n",
       "1374  other\n",
       "\n",
       "[1375 rows x 1 columns]"
      ]
     },
     "execution_count": 12,
     "metadata": {},
     "output_type": "execute_result"
    }
   ],
   "source": [
    "minnesota"
   ]
  },
  {
   "cell_type": "code",
   "execution_count": 13,
   "metadata": {
    "colab": {
     "base_uri": "https://localhost:8080/"
    },
    "id": "14o6d4CquQlp",
    "outputId": "6013edf7-52c2-479d-9e6f-b9b85afcb08c"
   },
   "outputs": [
    {
     "data": {
      "text/plain": [
       "white       600\n",
       "hispanic    300\n",
       "black       250\n",
       "other       150\n",
       "asian        75\n",
       "dtype: int64"
      ]
     },
     "execution_count": 13,
     "metadata": {},
     "output_type": "execute_result"
    }
   ],
   "source": [
    "minnesota.value_counts()"
   ]
  },
  {
   "cell_type": "markdown",
   "metadata": {},
   "source": [
    "**Chi-squared tests are based on the so-called chi-squared statistic. You calculate the chi-squared statistic with the following formula :**"
   ]
  },
  {
   "cell_type": "markdown",
   "metadata": {
    "id": "s1x3pO2Gyc6R"
   },
   "source": [
    "![image.png](data:image/png;base64,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)"
   ]
  },
  {
   "cell_type": "markdown",
   "metadata": {
    "id": "SL5FBKNty7J8"
   },
   "source": [
    "**In the formula, observed is the actual observed count for each category and expected is the expected count based on the distribution of the population for the corresponding category.**"
   ]
  },
  {
   "cell_type": "markdown",
   "metadata": {
    "id": "C1HHA6qPzYtH"
   },
   "source": [
    "## Calculation of chi-square test for our data to illustrate"
   ]
  },
  {
   "cell_type": "code",
   "execution_count": 14,
   "metadata": {
    "colab": {
     "base_uri": "https://localhost:8080/"
    },
    "id": "y2kBlpwixcva",
    "outputId": "570e8a3f-755c-4562-d533-c36663252572"
   },
   "outputs": [
    {
     "name": "stdout",
     "output_type": "stream",
     "text": [
      "col_0\n",
      "count    18.194805\n",
      "dtype: float64\n"
     ]
    }
   ],
   "source": [
    "observed = minnesota_table\n",
    "\n",
    "national_ratios = national_table/len(national)  # Get population ratios\n",
    "\n",
    "expected = national_ratios * len(minnesota)   # Get expected counts\n",
    "\n",
    "chi_squared_stat = (((observed-expected)**2)/expected).sum()\n",
    "\n",
    "print(chi_squared_stat)"
   ]
  },
  {
   "cell_type": "code",
   "execution_count": 15,
   "metadata": {
    "colab": {
     "base_uri": "https://localhost:8080/",
     "height": 237
    },
    "id": "duNpMy0P0DdA",
    "outputId": "7350826a-27fe-410a-9de8-f3be40cafe6b"
   },
   "outputs": [
    {
     "data": {
      "text/html": [
       "<div>\n",
       "<style scoped>\n",
       "    .dataframe tbody tr th:only-of-type {\n",
       "        vertical-align: middle;\n",
       "    }\n",
       "\n",
       "    .dataframe tbody tr th {\n",
       "        vertical-align: top;\n",
       "    }\n",
       "\n",
       "    .dataframe thead th {\n",
       "        text-align: right;\n",
       "    }\n",
       "</style>\n",
       "<table border=\"1\" class=\"dataframe\">\n",
       "  <thead>\n",
       "    <tr style=\"text-align: right;\">\n",
       "      <th>col_0</th>\n",
       "      <th>count</th>\n",
       "    </tr>\n",
       "    <tr>\n",
       "      <th>0</th>\n",
       "      <th></th>\n",
       "    </tr>\n",
       "  </thead>\n",
       "  <tbody>\n",
       "    <tr>\n",
       "      <th>asian</th>\n",
       "      <td>15000</td>\n",
       "    </tr>\n",
       "    <tr>\n",
       "      <th>black</th>\n",
       "      <td>50000</td>\n",
       "    </tr>\n",
       "    <tr>\n",
       "      <th>hispanic</th>\n",
       "      <td>60000</td>\n",
       "    </tr>\n",
       "    <tr>\n",
       "      <th>other</th>\n",
       "      <td>35000</td>\n",
       "    </tr>\n",
       "    <tr>\n",
       "      <th>white</th>\n",
       "      <td>100000</td>\n",
       "    </tr>\n",
       "  </tbody>\n",
       "</table>\n",
       "</div>"
      ],
      "text/plain": [
       "col_0      count\n",
       "0               \n",
       "asian      15000\n",
       "black      50000\n",
       "hispanic   60000\n",
       "other      35000\n",
       "white     100000"
      ]
     },
     "execution_count": 15,
     "metadata": {},
     "output_type": "execute_result"
    }
   ],
   "source": [
    "national_table"
   ]
  },
  {
   "cell_type": "code",
   "execution_count": 16,
   "metadata": {
    "colab": {
     "base_uri": "https://localhost:8080/",
     "height": 237
    },
    "id": "2r1FSlKgxc3M",
    "outputId": "eb20ceec-4d7d-4d07-b91e-f270682a40b4"
   },
   "outputs": [
    {
     "data": {
      "text/html": [
       "<div>\n",
       "<style scoped>\n",
       "    .dataframe tbody tr th:only-of-type {\n",
       "        vertical-align: middle;\n",
       "    }\n",
       "\n",
       "    .dataframe tbody tr th {\n",
       "        vertical-align: top;\n",
       "    }\n",
       "\n",
       "    .dataframe thead th {\n",
       "        text-align: right;\n",
       "    }\n",
       "</style>\n",
       "<table border=\"1\" class=\"dataframe\">\n",
       "  <thead>\n",
       "    <tr style=\"text-align: right;\">\n",
       "      <th>col_0</th>\n",
       "      <th>count</th>\n",
       "    </tr>\n",
       "    <tr>\n",
       "      <th>0</th>\n",
       "      <th></th>\n",
       "    </tr>\n",
       "  </thead>\n",
       "  <tbody>\n",
       "    <tr>\n",
       "      <th>asian</th>\n",
       "      <td>0.057692</td>\n",
       "    </tr>\n",
       "    <tr>\n",
       "      <th>black</th>\n",
       "      <td>0.192308</td>\n",
       "    </tr>\n",
       "    <tr>\n",
       "      <th>hispanic</th>\n",
       "      <td>0.230769</td>\n",
       "    </tr>\n",
       "    <tr>\n",
       "      <th>other</th>\n",
       "      <td>0.134615</td>\n",
       "    </tr>\n",
       "    <tr>\n",
       "      <th>white</th>\n",
       "      <td>0.384615</td>\n",
       "    </tr>\n",
       "  </tbody>\n",
       "</table>\n",
       "</div>"
      ],
      "text/plain": [
       "col_0        count\n",
       "0                 \n",
       "asian     0.057692\n",
       "black     0.192308\n",
       "hispanic  0.230769\n",
       "other     0.134615\n",
       "white     0.384615"
      ]
     },
     "execution_count": 16,
     "metadata": {},
     "output_type": "execute_result"
    }
   ],
   "source": [
    "national_ratios"
   ]
  },
  {
   "cell_type": "code",
   "execution_count": 17,
   "metadata": {
    "colab": {
     "base_uri": "https://localhost:8080/",
     "height": 237
    },
    "id": "K2mfmsT4z8rO",
    "outputId": "20e12063-cb12-4c5e-baf4-0348377a9bf5"
   },
   "outputs": [
    {
     "data": {
      "text/html": [
       "<div>\n",
       "<style scoped>\n",
       "    .dataframe tbody tr th:only-of-type {\n",
       "        vertical-align: middle;\n",
       "    }\n",
       "\n",
       "    .dataframe tbody tr th {\n",
       "        vertical-align: top;\n",
       "    }\n",
       "\n",
       "    .dataframe thead th {\n",
       "        text-align: right;\n",
       "    }\n",
       "</style>\n",
       "<table border=\"1\" class=\"dataframe\">\n",
       "  <thead>\n",
       "    <tr style=\"text-align: right;\">\n",
       "      <th>col_0</th>\n",
       "      <th>count</th>\n",
       "    </tr>\n",
       "    <tr>\n",
       "      <th>0</th>\n",
       "      <th></th>\n",
       "    </tr>\n",
       "  </thead>\n",
       "  <tbody>\n",
       "    <tr>\n",
       "      <th>asian</th>\n",
       "      <td>79.326923</td>\n",
       "    </tr>\n",
       "    <tr>\n",
       "      <th>black</th>\n",
       "      <td>264.423077</td>\n",
       "    </tr>\n",
       "    <tr>\n",
       "      <th>hispanic</th>\n",
       "      <td>317.307692</td>\n",
       "    </tr>\n",
       "    <tr>\n",
       "      <th>other</th>\n",
       "      <td>185.096154</td>\n",
       "    </tr>\n",
       "    <tr>\n",
       "      <th>white</th>\n",
       "      <td>528.846154</td>\n",
       "    </tr>\n",
       "  </tbody>\n",
       "</table>\n",
       "</div>"
      ],
      "text/plain": [
       "col_0          count\n",
       "0                   \n",
       "asian      79.326923\n",
       "black     264.423077\n",
       "hispanic  317.307692\n",
       "other     185.096154\n",
       "white     528.846154"
      ]
     },
     "execution_count": 17,
     "metadata": {},
     "output_type": "execute_result"
    }
   ],
   "source": [
    "expected"
   ]
  },
  {
   "cell_type": "markdown",
   "metadata": {
    "id": "Fp_D7giI1Nun"
   },
   "source": [
    "**Note: The chi-squared test assumes none of the expected counts are less than 5.**"
   ]
  },
  {
   "cell_type": "markdown",
   "metadata": {
    "id": "FAdpZ90I1_wA"
   },
   "source": [
    "**In the chi-square test we compare the chi-square test statistic to a critical value based on the chi-square distribution.**"
   ]
  },
  {
   "cell_type": "markdown",
   "metadata": {
    "id": "ghalwUpL2qaz"
   },
   "source": [
    "**The scipy library shorthand for the chi-square distribution is chi2. Let's use this knowledge to find the critical value for 95% confidence level and check the p-value of our result :**"
   ]
  },
  {
   "cell_type": "code",
   "execution_count": 18,
   "metadata": {
    "colab": {
     "base_uri": "https://localhost:8080/"
    },
    "id": "mj7d2CCs1B31",
    "outputId": "25cc3eb8-f206-46de-ab41-7392e7c19a09"
   },
   "outputs": [
    {
     "name": "stdout",
     "output_type": "stream",
     "text": [
      "Critical value\n",
      "9.487729036781154\n",
      "P value\n",
      "[0.00113047]\n"
     ]
    }
   ],
   "source": [
    "crit = stats.chi2.ppf(q = 0.95, # Find the critical value for 95% confidence\n",
    "                      df = 4)   # Df = number of variable categories - 1\n",
    "\n",
    "print(\"Critical value\")\n",
    "print(crit)\n",
    "\n",
    "p_value = 1 - stats.chi2.cdf(x=chi_squared_stat,  # Find the p-value\n",
    "                             df=4)\n",
    "print(\"P value\")\n",
    "print(p_value)"
   ]
  },
  {
   "cell_type": "markdown",
   "metadata": {
    "id": "Ut10gX6q3Wva"
   },
   "source": [
    "**Since our chi-squared statistic exceeds the critical value, we'd reject the null hypothesis that the two distributions are the same.**"
   ]
  },
  {
   "cell_type": "markdown",
   "metadata": {
    "id": "BwnWKAmU6AHU"
   },
   "source": [
    "**You can carry out a chi-squared goodness-of-fit test automatically using the scipy function scipy.stats.chisquare() :**"
   ]
  },
  {
   "cell_type": "code",
   "execution_count": 19,
   "metadata": {
    "colab": {
     "base_uri": "https://localhost:8080/"
    },
    "id": "JRY7_adU6YbX",
    "outputId": "be07e692-a689-4969-9e11-c13435baf9b2"
   },
   "outputs": [
    {
     "data": {
      "text/plain": [
       "Power_divergenceResult(statistic=array([18.19480519]), pvalue=array([0.00113047]))"
      ]
     },
     "execution_count": 19,
     "metadata": {},
     "output_type": "execute_result"
    }
   ],
   "source": [
    "stats.chisquare(f_obs= observed,   # Array of observed counts\n",
    "                f_exp= expected)   # Array of expected counts"
   ]
  },
  {
   "cell_type": "markdown",
   "metadata": {
    "id": "Mvuxp8O67Q7Z"
   },
   "source": [
    "# Chi-Squared Test of Independence "
   ]
  },
  {
   "cell_type": "markdown",
   "metadata": {
    "id": "QykFDC507gJu"
   },
   "source": [
    "**Independence is a key concept in probability that describes a situation where knowing the value of one variable tells you nothing about the value of another.**"
   ]
  },
  {
   "cell_type": "markdown",
   "metadata": {
    "id": "pTwg5W5y8BlO"
   },
   "source": [
    "**For instance, the month you were born probably doesn't tell you anything about which web browser you use, so we'd expect birth month and browser preference to be independent.**"
   ]
  },
  {
   "cell_type": "markdown",
   "metadata": {
    "id": "We81kezh8VBC"
   },
   "source": [
    "**On the other hand, your month of birth might be related to whether you excelled at sports in school, so month of birth and sports performance might not be independent.**"
   ]
  },
  {
   "cell_type": "markdown",
   "metadata": {
    "id": "AOOPRXHA8kpy"
   },
   "source": [
    "**The chi-squared test of independence tests whether two categorical variables are independent. The test of independence is commonly used to determine whether variables like education, political views and other preferences vary based on demographic factors like gender, race and religion.**"
   ]
  },
  {
   "cell_type": "markdown",
   "metadata": {
    "id": "zPdVtYLM9BDY"
   },
   "source": [
    "## Generating some fake voter polling data and performing a test of independence :"
   ]
  },
  {
   "cell_type": "code",
   "execution_count": 20,
   "metadata": {
    "colab": {
     "base_uri": "https://localhost:8080/"
    },
    "id": "AhS1fW_dBGVd",
    "outputId": "1a152678-074d-401b-b460-649bea6e39e8"
   },
   "outputs": [
    {
     "data": {
      "text/plain": [
       "array(['black', 'asian', 'asian', 'black', 'asian', 'asian', 'asian',\n",
       "       'black', 'asian', 'asian'], dtype='<U5')"
      ]
     },
     "execution_count": 20,
     "metadata": {},
     "output_type": "execute_result"
    }
   ],
   "source": [
    "np.random.seed(10)\n",
    "aa = np.random.choice(a= [\"asian\",\"black\"],\n",
    "                              p = [0.65, 0.35],\n",
    "                              size=10)\n",
    "aa"
   ]
  },
  {
   "cell_type": "code",
   "execution_count": 21,
   "metadata": {
    "colab": {
     "base_uri": "https://localhost:8080/",
     "height": 237
    },
    "id": "Q9CTiIp06tDY",
    "outputId": "b747c798-89e0-4212-c408-0b6c72957712"
   },
   "outputs": [
    {
     "data": {
      "text/html": [
       "<div>\n",
       "<style scoped>\n",
       "    .dataframe tbody tr th:only-of-type {\n",
       "        vertical-align: middle;\n",
       "    }\n",
       "\n",
       "    .dataframe tbody tr th {\n",
       "        vertical-align: top;\n",
       "    }\n",
       "\n",
       "    .dataframe thead th {\n",
       "        text-align: right;\n",
       "    }\n",
       "</style>\n",
       "<table border=\"1\" class=\"dataframe\">\n",
       "  <thead>\n",
       "    <tr style=\"text-align: right;\">\n",
       "      <th></th>\n",
       "      <th>democrat</th>\n",
       "      <th>independent</th>\n",
       "      <th>republican</th>\n",
       "      <th>row_totals</th>\n",
       "    </tr>\n",
       "  </thead>\n",
       "  <tbody>\n",
       "    <tr>\n",
       "      <th>asian</th>\n",
       "      <td>21</td>\n",
       "      <td>7</td>\n",
       "      <td>32</td>\n",
       "      <td>60</td>\n",
       "    </tr>\n",
       "    <tr>\n",
       "      <th>black</th>\n",
       "      <td>65</td>\n",
       "      <td>25</td>\n",
       "      <td>64</td>\n",
       "      <td>154</td>\n",
       "    </tr>\n",
       "    <tr>\n",
       "      <th>hispanic</th>\n",
       "      <td>107</td>\n",
       "      <td>50</td>\n",
       "      <td>94</td>\n",
       "      <td>251</td>\n",
       "    </tr>\n",
       "    <tr>\n",
       "      <th>other</th>\n",
       "      <td>15</td>\n",
       "      <td>8</td>\n",
       "      <td>15</td>\n",
       "      <td>38</td>\n",
       "    </tr>\n",
       "    <tr>\n",
       "      <th>white</th>\n",
       "      <td>189</td>\n",
       "      <td>96</td>\n",
       "      <td>212</td>\n",
       "      <td>497</td>\n",
       "    </tr>\n",
       "    <tr>\n",
       "      <th>col_totals</th>\n",
       "      <td>397</td>\n",
       "      <td>186</td>\n",
       "      <td>417</td>\n",
       "      <td>1000</td>\n",
       "    </tr>\n",
       "  </tbody>\n",
       "</table>\n",
       "</div>"
      ],
      "text/plain": [
       "            democrat  independent  republican  row_totals\n",
       "asian             21            7          32          60\n",
       "black             65           25          64         154\n",
       "hispanic         107           50          94         251\n",
       "other             15            8          15          38\n",
       "white            189           96         212         497\n",
       "col_totals       397          186         417        1000"
      ]
     },
     "execution_count": 21,
     "metadata": {},
     "output_type": "execute_result"
    }
   ],
   "source": [
    "np.random.seed(10)\n",
    "\n",
    "# Sample data randomly at fixed probabilities\n",
    "voter_race = np.random.choice(a= [\"asian\",\"black\",\"hispanic\",\"other\",\"white\"],\n",
    "                              p = [0.05, 0.15 ,0.25, 0.05, 0.5],\n",
    "                              size=1000)\n",
    "\n",
    "# Sample data randomly at fixed probabilities\n",
    "voter_party = np.random.choice(a= [\"democrat\",\"independent\",\"republican\"],\n",
    "                              p = [0.4, 0.2, 0.4],\n",
    "                              size=1000)\n",
    "\n",
    "voters = pd.DataFrame({\"race\":voter_race,\n",
    "                       \"party\":voter_party})\n",
    "\n",
    "voter_tab = pd.crosstab(voters.race, voters.party, margins = True)\n",
    "\n",
    "voter_tab.columns = [\"democrat\",\"independent\",\"republican\",\"row_totals\"]\n",
    "\n",
    "voter_tab.index = [\"asian\",\"black\",\"hispanic\",\"other\",\"white\",\"col_totals\"]\n",
    "\n",
    "observed = voter_tab.iloc[0:5,0:3]   # Get table without totals for later use\n",
    "voter_tab"
   ]
  },
  {
   "cell_type": "code",
   "execution_count": 22,
   "metadata": {
    "colab": {
     "base_uri": "https://localhost:8080/",
     "height": 206
    },
    "id": "JSHM3yVaEC8x",
    "outputId": "6cf80393-8ef2-4ebd-d193-6d6eff84f549"
   },
   "outputs": [
    {
     "data": {
      "text/html": [
       "<div>\n",
       "<style scoped>\n",
       "    .dataframe tbody tr th:only-of-type {\n",
       "        vertical-align: middle;\n",
       "    }\n",
       "\n",
       "    .dataframe tbody tr th {\n",
       "        vertical-align: top;\n",
       "    }\n",
       "\n",
       "    .dataframe thead th {\n",
       "        text-align: right;\n",
       "    }\n",
       "</style>\n",
       "<table border=\"1\" class=\"dataframe\">\n",
       "  <thead>\n",
       "    <tr style=\"text-align: right;\">\n",
       "      <th></th>\n",
       "      <th>democrat</th>\n",
       "      <th>independent</th>\n",
       "      <th>republican</th>\n",
       "    </tr>\n",
       "  </thead>\n",
       "  <tbody>\n",
       "    <tr>\n",
       "      <th>asian</th>\n",
       "      <td>21</td>\n",
       "      <td>7</td>\n",
       "      <td>32</td>\n",
       "    </tr>\n",
       "    <tr>\n",
       "      <th>black</th>\n",
       "      <td>65</td>\n",
       "      <td>25</td>\n",
       "      <td>64</td>\n",
       "    </tr>\n",
       "    <tr>\n",
       "      <th>hispanic</th>\n",
       "      <td>107</td>\n",
       "      <td>50</td>\n",
       "      <td>94</td>\n",
       "    </tr>\n",
       "    <tr>\n",
       "      <th>other</th>\n",
       "      <td>15</td>\n",
       "      <td>8</td>\n",
       "      <td>15</td>\n",
       "    </tr>\n",
       "    <tr>\n",
       "      <th>white</th>\n",
       "      <td>189</td>\n",
       "      <td>96</td>\n",
       "      <td>212</td>\n",
       "    </tr>\n",
       "  </tbody>\n",
       "</table>\n",
       "</div>"
      ],
      "text/plain": [
       "          democrat  independent  republican\n",
       "asian           21            7          32\n",
       "black           65           25          64\n",
       "hispanic       107           50          94\n",
       "other           15            8          15\n",
       "white          189           96         212"
      ]
     },
     "execution_count": 22,
     "metadata": {},
     "output_type": "execute_result"
    }
   ],
   "source": [
    "observed"
   ]
  },
  {
   "cell_type": "code",
   "execution_count": 23,
   "metadata": {
    "colab": {
     "base_uri": "https://localhost:8080/",
     "height": 423
    },
    "id": "iyCKj0wuABNk",
    "outputId": "5e953881-90d9-452c-c628-b71a2e788417"
   },
   "outputs": [
    {
     "data": {
      "text/html": [
       "<div>\n",
       "<style scoped>\n",
       "    .dataframe tbody tr th:only-of-type {\n",
       "        vertical-align: middle;\n",
       "    }\n",
       "\n",
       "    .dataframe tbody tr th {\n",
       "        vertical-align: top;\n",
       "    }\n",
       "\n",
       "    .dataframe thead th {\n",
       "        text-align: right;\n",
       "    }\n",
       "</style>\n",
       "<table border=\"1\" class=\"dataframe\">\n",
       "  <thead>\n",
       "    <tr style=\"text-align: right;\">\n",
       "      <th></th>\n",
       "      <th>race</th>\n",
       "      <th>party</th>\n",
       "    </tr>\n",
       "  </thead>\n",
       "  <tbody>\n",
       "    <tr>\n",
       "      <th>0</th>\n",
       "      <td>white</td>\n",
       "      <td>democrat</td>\n",
       "    </tr>\n",
       "    <tr>\n",
       "      <th>1</th>\n",
       "      <td>asian</td>\n",
       "      <td>republican</td>\n",
       "    </tr>\n",
       "    <tr>\n",
       "      <th>2</th>\n",
       "      <td>white</td>\n",
       "      <td>independent</td>\n",
       "    </tr>\n",
       "    <tr>\n",
       "      <th>3</th>\n",
       "      <td>white</td>\n",
       "      <td>republican</td>\n",
       "    </tr>\n",
       "    <tr>\n",
       "      <th>4</th>\n",
       "      <td>other</td>\n",
       "      <td>democrat</td>\n",
       "    </tr>\n",
       "    <tr>\n",
       "      <th>...</th>\n",
       "      <td>...</td>\n",
       "      <td>...</td>\n",
       "    </tr>\n",
       "    <tr>\n",
       "      <th>995</th>\n",
       "      <td>white</td>\n",
       "      <td>republican</td>\n",
       "    </tr>\n",
       "    <tr>\n",
       "      <th>996</th>\n",
       "      <td>hispanic</td>\n",
       "      <td>independent</td>\n",
       "    </tr>\n",
       "    <tr>\n",
       "      <th>997</th>\n",
       "      <td>black</td>\n",
       "      <td>independent</td>\n",
       "    </tr>\n",
       "    <tr>\n",
       "      <th>998</th>\n",
       "      <td>white</td>\n",
       "      <td>republican</td>\n",
       "    </tr>\n",
       "    <tr>\n",
       "      <th>999</th>\n",
       "      <td>black</td>\n",
       "      <td>democrat</td>\n",
       "    </tr>\n",
       "  </tbody>\n",
       "</table>\n",
       "<p>1000 rows × 2 columns</p>\n",
       "</div>"
      ],
      "text/plain": [
       "         race        party\n",
       "0       white     democrat\n",
       "1       asian   republican\n",
       "2       white  independent\n",
       "3       white   republican\n",
       "4       other     democrat\n",
       "..        ...          ...\n",
       "995     white   republican\n",
       "996  hispanic  independent\n",
       "997     black  independent\n",
       "998     white   republican\n",
       "999     black     democrat\n",
       "\n",
       "[1000 rows x 2 columns]"
      ]
     },
     "execution_count": 23,
     "metadata": {},
     "output_type": "execute_result"
    }
   ],
   "source": [
    "voters"
   ]
  },
  {
   "cell_type": "markdown",
   "metadata": {
    "id": "xNcMYaR2MVdX"
   },
   "source": [
    "**For a test of independence, we use the same chi-squared formula that we used for the goodness-of-fit test. The main difference is we have to calculate the expected counts of each cell in a 2-dimensional table instead of a 1-dimensional table.**"
   ]
  },
  {
   "cell_type": "markdown",
   "metadata": {
    "id": "rJkViBT6M5ij"
   },
   "source": [
    "**To get the expected count for a cell, multiply the row total for that cell by the column total for that cell and then divide by the total number of observations.**"
   ]
  },
  {
   "cell_type": "markdown",
   "metadata": {
    "id": "5lXNAvOTNQkf"
   },
   "source": [
    "**We can quickly get the expected counts for all cells in the table by taking the row totals and column totals of the table, performing an outer product on them with the np.outer() function and dividing by the number of observations :**"
   ]
  },
  {
   "cell_type": "code",
   "execution_count": 24,
   "metadata": {
    "colab": {
     "base_uri": "https://localhost:8080/",
     "height": 206
    },
    "id": "kueWe7yACwhN",
    "outputId": "5e7f7f37-383a-4b1b-e1f7-e2ed6e35aacd"
   },
   "outputs": [
    {
     "data": {
      "text/html": [
       "<div>\n",
       "<style scoped>\n",
       "    .dataframe tbody tr th:only-of-type {\n",
       "        vertical-align: middle;\n",
       "    }\n",
       "\n",
       "    .dataframe tbody tr th {\n",
       "        vertical-align: top;\n",
       "    }\n",
       "\n",
       "    .dataframe thead th {\n",
       "        text-align: right;\n",
       "    }\n",
       "</style>\n",
       "<table border=\"1\" class=\"dataframe\">\n",
       "  <thead>\n",
       "    <tr style=\"text-align: right;\">\n",
       "      <th></th>\n",
       "      <th>democrat</th>\n",
       "      <th>independent</th>\n",
       "      <th>republican</th>\n",
       "    </tr>\n",
       "  </thead>\n",
       "  <tbody>\n",
       "    <tr>\n",
       "      <th>asian</th>\n",
       "      <td>23.820</td>\n",
       "      <td>11.160</td>\n",
       "      <td>25.020</td>\n",
       "    </tr>\n",
       "    <tr>\n",
       "      <th>black</th>\n",
       "      <td>61.138</td>\n",
       "      <td>28.644</td>\n",
       "      <td>64.218</td>\n",
       "    </tr>\n",
       "    <tr>\n",
       "      <th>hispanic</th>\n",
       "      <td>99.647</td>\n",
       "      <td>46.686</td>\n",
       "      <td>104.667</td>\n",
       "    </tr>\n",
       "    <tr>\n",
       "      <th>other</th>\n",
       "      <td>15.086</td>\n",
       "      <td>7.068</td>\n",
       "      <td>15.846</td>\n",
       "    </tr>\n",
       "    <tr>\n",
       "      <th>white</th>\n",
       "      <td>197.309</td>\n",
       "      <td>92.442</td>\n",
       "      <td>207.249</td>\n",
       "    </tr>\n",
       "  </tbody>\n",
       "</table>\n",
       "</div>"
      ],
      "text/plain": [
       "          democrat  independent  republican\n",
       "asian       23.820       11.160      25.020\n",
       "black       61.138       28.644      64.218\n",
       "hispanic    99.647       46.686     104.667\n",
       "other       15.086        7.068      15.846\n",
       "white      197.309       92.442     207.249"
      ]
     },
     "execution_count": 24,
     "metadata": {},
     "output_type": "execute_result"
    }
   ],
   "source": [
    "expected =  np.outer(voter_tab[\"row_totals\"][0:5],\n",
    "                     voter_tab.loc[\"col_totals\"][0:3]) / 1000\n",
    "\n",
    "expected = pd.DataFrame(expected)\n",
    "\n",
    "expected.columns = [\"democrat\",\"independent\",\"republican\"]\n",
    "expected.index = [\"asian\",\"black\",\"hispanic\",\"other\",\"white\"]\n",
    "\n",
    "expected"
   ]
  },
  {
   "cell_type": "markdown",
   "metadata": {
    "id": "E5jgWtvoO9X9"
   },
   "source": [
    "**Now we can follow the same steps we took before to calculate the chi-square statistic, the critical value and the p-value :**"
   ]
  },
  {
   "cell_type": "code",
   "execution_count": 25,
   "metadata": {
    "colab": {
     "base_uri": "https://localhost:8080/"
    },
    "id": "gFecSyeWO8fj",
    "outputId": "91b66978-419a-4a8f-cfca-9c879d197f9e"
   },
   "outputs": [
    {
     "name": "stdout",
     "output_type": "stream",
     "text": [
      "7.169321280162059\n"
     ]
    }
   ],
   "source": [
    "chi_squared_stat = (((observed-expected)**2)/expected).sum().sum()\n",
    "\n",
    "print(chi_squared_stat)"
   ]
  },
  {
   "cell_type": "markdown",
   "metadata": {
    "id": "CVE7STqcPYtM"
   },
   "source": [
    "**Note : We call .sum() twice : once to get the column sums and a second time to add the column sums together, returning the sum of the entire 2D table.**"
   ]
  },
  {
   "cell_type": "code",
   "execution_count": 26,
   "metadata": {
    "colab": {
     "base_uri": "https://localhost:8080/"
    },
    "id": "ihR0UGSBPnS9",
    "outputId": "069807a2-7e91-4345-887d-3ff77973f3d6"
   },
   "outputs": [
    {
     "name": "stdout",
     "output_type": "stream",
     "text": [
      "Critical value\n",
      "15.50731305586545\n",
      "P value\n",
      "0.518479392948842\n"
     ]
    }
   ],
   "source": [
    "crit = stats.chi2.ppf(q = 0.95, # Find the critical value for 95% confidence*\n",
    "                      df = 8)   # Note\n",
    "\n",
    "print(\"Critical value\")\n",
    "print(crit)\n",
    "\n",
    "p_value = 1 - stats.chi2.cdf(x=chi_squared_stat,  # Find the p-value\n",
    "                             df=8)\n",
    "print(\"P value\")\n",
    "print(p_value)"
   ]
  },
  {
   "cell_type": "markdown",
   "metadata": {
    "id": "sw_tie8lPyWT"
   },
   "source": [
    "**Note : The degrees of freedom for a test of independence equals the product of the number of categories in each variable minus 1. In this case we have a 5x3 table so df = 4x2 = 8.**"
   ]
  },
  {
   "cell_type": "markdown",
   "metadata": {
    "id": "8cZE9Y0sQMBK"
   },
   "source": [
    "**As with the goodness-of-fit test, we can use scipy to conduct a test of independence quickly. Use stats.chi2_contingency() function to conduct a test of independence automatically given a frequency table of observed counts :**"
   ]
  },
  {
   "cell_type": "code",
   "execution_count": 27,
   "metadata": {
    "colab": {
     "base_uri": "https://localhost:8080/"
    },
    "id": "nJ9u1zpkQVbE",
    "outputId": "c6d2e97a-3d91-487c-bd80-b94f1cb1c08d"
   },
   "outputs": [
    {
     "data": {
      "text/plain": [
       "(7.169321280162059,\n",
       " 0.518479392948842,\n",
       " 8,\n",
       " array([[ 23.82 ,  11.16 ,  25.02 ],\n",
       "        [ 61.138,  28.644,  64.218],\n",
       "        [ 99.647,  46.686, 104.667],\n",
       "        [ 15.086,   7.068,  15.846],\n",
       "        [197.309,  92.442, 207.249]]))"
      ]
     },
     "execution_count": 27,
     "metadata": {},
     "output_type": "execute_result"
    }
   ],
   "source": [
    "stats.chi2_contingency(observed= observed)"
   ]
  },
  {
   "cell_type": "markdown",
   "metadata": {
    "id": "gXE6jHhfQnDO"
   },
   "source": [
    "**The output shows the chi-square statistic, the p-value and the degrees of freedom followed by the expected counts.**"
   ]
  },
  {
   "cell_type": "markdown",
   "metadata": {},
   "source": [
    "**As expected, given the high p-value, the test result does not detect a significant relationship between the variables.**"
   ]
  },
  {
   "cell_type": "markdown",
   "metadata": {
    "id": "UYw0U1zwRDG6"
   },
   "source": [
    "# Wrap Up"
   ]
  },
  {
   "cell_type": "markdown",
   "metadata": {
    "id": "SX0a7uf3RQzV"
   },
   "source": [
    "**Chi-squared tests provide a way to investigate differences in the distributions of categorical variables with the same categories and the dependence between categorical variables.**"
   ]
  },
  {
   "cell_type": "markdown",
   "metadata": {},
   "source": [
    "<div class=\"alert alert-danger\"><font color=black><u><b>Important Note :</u><b> In order to better understand the chi-square test, the article in the link below was used in the group study. All code blocks and explanations in the group study are taken from this article. "
   ]
  },
  {
   "cell_type": "markdown",
   "metadata": {},
   "source": [
    "**https://hamelg.blogspot.com/2015/11/python-for-data-analysis-part-25-chi.html**"
   ]
  },
  {
   "cell_type": "code",
   "execution_count": null,
   "metadata": {},
   "outputs": [],
   "source": []
  }
 ],
 "metadata": {
  "colab": {
   "provenance": []
  },
  "kernelspec": {
   "display_name": "Python 3 (ipykernel)",
   "language": "python",
   "name": "python3"
  },
  "language_info": {
   "codemirror_mode": {
    "name": "ipython",
    "version": 3
   },
   "file_extension": ".py",
   "mimetype": "text/x-python",
   "name": "python",
   "nbconvert_exporter": "python",
   "pygments_lexer": "ipython3",
   "version": "3.9.13"
  },
  "toc": {
   "base_numbering": 1,
   "nav_menu": {},
   "number_sections": true,
   "sideBar": true,
   "skip_h1_title": false,
   "title_cell": "Table of Contents",
   "title_sidebar": "Contents",
   "toc_cell": false,
   "toc_position": {},
   "toc_section_display": true,
   "toc_window_display": false
  }
 },
 "nbformat": 4,
 "nbformat_minor": 1
}
