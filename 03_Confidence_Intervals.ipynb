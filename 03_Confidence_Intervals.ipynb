{
 "cells": [
  {
   "cell_type": "markdown",
   "metadata": {
    "id": "ALJAEq7s4gr6"
   },
   "source": [
    "# **EXERCISE 1.**"
   ]
  },
  {
   "cell_type": "markdown",
   "metadata": {
    "id": "kaFkzwuj22IG"
   },
   "source": [
    "**Suppose scores on exams in statistics are normally distributed with an unknown population mean and a population standard deviation of 3 points. A random sample of 36 scores is taken and gives a sample mean (sample  mean score) of 68. Find a confidence interval estimate for the population mean exam score (the mean score on all exams).**\n",
    "\n",
    "**Find a 90% confidence interval for the true (population) mean of statistics exam scores.**"
   ]
  },
  {
   "cell_type": "code",
   "execution_count": 1,
   "metadata": {
    "id": "wZatdIC04eOm"
   },
   "outputs": [],
   "source": [
    "# Import related libraries\n",
    "\n",
    "import numpy as np\n",
    "from scipy import stats\n"
   ]
  },
  {
   "cell_type": "code",
   "execution_count": 2,
   "metadata": {
    "id": "10pSCtjN2wqf"
   },
   "outputs": [],
   "source": [
    "# Normal distribution\n",
    "# Population mean = Unknown\n",
    "sigma = 3 # standard deviation of population\n",
    "x = 68 # mean score of sample\n",
    "n = 36 # number of random sample\n"
   ]
  },
  {
   "cell_type": "code",
   "execution_count": 3,
   "metadata": {
    "colab": {
     "base_uri": "https://localhost:8080/"
    },
    "id": "xFCvFt2x2wvU",
    "outputId": "59ed3adf-78cb-4832-f332-ea8843e9a2b9"
   },
   "outputs": [
    {
     "data": {
      "text/plain": [
       "0.5"
      ]
     },
     "execution_count": 3,
     "metadata": {},
     "output_type": "execute_result"
    }
   ],
   "source": [
    "# Calculate standard error of the mean.\n",
    "sem = sigma / np.sqrt(n)\n",
    "sem"
   ]
  },
  {
   "cell_type": "code",
   "execution_count": 4,
   "metadata": {
    "colab": {
     "base_uri": "https://localhost:8080/"
    },
    "id": "FeE4PaYIKamP",
    "outputId": "e2239911-64c3-492a-f430-a3b133f45715"
   },
   "outputs": [
    {
     "data": {
      "text/plain": [
       "0.8225"
      ]
     },
     "execution_count": 4,
     "metadata": {},
     "output_type": "execute_result"
    }
   ],
   "source": [
    "# Calculate margin of error.\n",
    "z = 1.645 # % 90 level of confidence\n",
    "moe = z * sem\n",
    "moe"
   ]
  },
  {
   "cell_type": "code",
   "execution_count": 5,
   "metadata": {
    "colab": {
     "base_uri": "https://localhost:8080/"
    },
    "id": "4p_5XNSkKteG",
    "outputId": "34794aa7-7bd8-4e9d-80d1-564ed6ebbece"
   },
   "outputs": [
    {
     "data": {
      "text/plain": [
       "67.1775"
      ]
     },
     "execution_count": 5,
     "metadata": {},
     "output_type": "execute_result"
    }
   ],
   "source": [
    "# Calculate lower limit and upper limit.\n",
    "lower_limit = x - moe\n",
    "lower_limit"
   ]
  },
  {
   "cell_type": "code",
   "execution_count": 6,
   "metadata": {
    "colab": {
     "base_uri": "https://localhost:8080/"
    },
    "id": "jCWUg7MdUg15",
    "outputId": "1b7365aa-fe2e-4e1e-cbf5-4b02cc5fc320"
   },
   "outputs": [
    {
     "data": {
      "text/plain": [
       "68.8225"
      ]
     },
     "execution_count": 6,
     "metadata": {},
     "output_type": "execute_result"
    }
   ],
   "source": [
    "upper_limit = x + moe\n",
    "upper_limit"
   ]
  },
  {
   "cell_type": "code",
   "execution_count": 7,
   "metadata": {
    "colab": {
     "base_uri": "https://localhost:8080/"
    },
    "id": "z-Y2trnFJGPj",
    "outputId": "4b61b109-59bb-4e30-a72f-59210fa206a7"
   },
   "outputs": [
    {
     "data": {
      "text/plain": [
       "(67.17757318652427, 68.82242681347573)"
      ]
     },
     "execution_count": 7,
     "metadata": {},
     "output_type": "execute_result"
    }
   ],
   "source": [
    "# Calculate 90% confidence interval for the true (population) mean of statistics exam scores\n",
    "\n",
    "stats.norm.interval(0.90, loc = x, scale=sem)"
   ]
  },
  {
   "cell_type": "markdown",
   "metadata": {
    "id": "gD8Hzk9D3apy"
   },
   "source": [
    "# **EXERCISE 2.**"
   ]
  },
  {
   "cell_type": "markdown",
   "metadata": {
    "id": "bhLsWePr3apz"
   },
   "source": [
    "**What is the normal body temperature for healthy humans? A random sample of 130 healthy human body temperatures provided by Allen Shoemaker yielded 98.25 degrees and standard deviation 0.73 degrees.**\n",
    "\n",
    "**Give a 99% confidence interval for the average body temperature of healthy people.**"
   ]
  },
  {
   "cell_type": "code",
   "execution_count": 8,
   "metadata": {
    "id": "u7Ku5MJl3ljH"
   },
   "outputs": [],
   "source": [
    "\n",
    "std = 0.73 # standard deviation of sample.\n",
    "x = 98.25 # mean of sample\n",
    "n = 130 # number of random sample\n"
   ]
  },
  {
   "cell_type": "code",
   "execution_count": 9,
   "metadata": {
    "colab": {
     "base_uri": "https://localhost:8080/"
    },
    "id": "xa9yBi5W3ll0",
    "outputId": "98c587c0-8056-47db-8df2-5c5edf9768a9"
   },
   "outputs": [
    {
     "data": {
      "text/plain": [
       "0.06402523540941313"
      ]
     },
     "execution_count": 9,
     "metadata": {},
     "output_type": "execute_result"
    }
   ],
   "source": [
    "# Calculate standard error of the mean.\n",
    "sem= std / np.sqrt(n)\n",
    "sem"
   ]
  },
  {
   "cell_type": "code",
   "execution_count": 10,
   "metadata": {
    "colab": {
     "base_uri": "https://localhost:8080/"
    },
    "id": "sJPRG2SaPN9I",
    "outputId": "083fa027-92f3-45e6-d879-1f2462454763"
   },
   "outputs": [
    {
     "data": {
      "text/plain": [
       "0.1651851073562859"
      ]
     },
     "execution_count": 10,
     "metadata": {},
     "output_type": "execute_result"
    }
   ],
   "source": [
    "# Calculate margin of error.\n",
    "# % 99 level of confidence z = 2.58\n",
    "moe = 2.58 * sem\n",
    "moe"
   ]
  },
  {
   "cell_type": "code",
   "execution_count": 11,
   "metadata": {
    "colab": {
     "base_uri": "https://localhost:8080/"
    },
    "id": "v4qPEUKsTxR0",
    "outputId": "f65b1eca-fb19-4c0b-bb1c-54cc2c7af6df"
   },
   "outputs": [
    {
     "data": {
      "text/plain": [
       "98.08481489264372"
      ]
     },
     "execution_count": 11,
     "metadata": {},
     "output_type": "execute_result"
    }
   ],
   "source": [
    "# Calculate lower limit and upper limit.\n",
    "lower_limit = x - moe\n",
    "lower_limit"
   ]
  },
  {
   "cell_type": "code",
   "execution_count": 12,
   "metadata": {
    "colab": {
     "base_uri": "https://localhost:8080/"
    },
    "id": "LNoy_sGtUbeQ",
    "outputId": "5a8a6b7e-97d4-4536-a1d8-c70047d019a1"
   },
   "outputs": [
    {
     "data": {
      "text/plain": [
       "98.41518510735628"
      ]
     },
     "execution_count": 12,
     "metadata": {},
     "output_type": "execute_result"
    }
   ],
   "source": [
    "upper_limit = x + moe\n",
    "upper_limit"
   ]
  },
  {
   "cell_type": "code",
   "execution_count": 13,
   "metadata": {
    "colab": {
     "base_uri": "https://localhost:8080/"
    },
    "id": "-qqXxsArU9H4",
    "outputId": "81b66e24-88bd-41d4-dcdd-18c5ba9eccc8"
   },
   "outputs": [
    {
     "data": {
      "text/plain": [
       "(98.08508192246582, 98.41491807753418)"
      ]
     },
     "execution_count": 13,
     "metadata": {},
     "output_type": "execute_result"
    }
   ],
   "source": [
    "# Calculate 99% confidence interval for the true (population) mean of statistics exam scores\n",
    "\n",
    "stats.norm.interval(0.99, loc = x, scale=sem)"
   ]
  },
  {
   "cell_type": "markdown",
   "metadata": {
    "id": "XHIB03Qp3ot_"
   },
   "source": [
    "# **EXERCISE 3.**"
   ]
  },
  {
   "cell_type": "markdown",
   "metadata": {
    "id": "dJdJizfA3ouA"
   },
   "source": [
    "**The administrators for a hospital wished to estimate the average number of days required for inpatient treatment of patients between the ages of 25 and 34. A random sample of 500 hospital patients between these ages produced a mean and standard deviation equal to 5.4 and 3.1 days, respectively.**\n",
    "\n",
    "**Construct a 95% confidence interval for the mean length of stay for the population of patients from which the sample was drawn.**"
   ]
  },
  {
   "cell_type": "code",
   "execution_count": 14,
   "metadata": {
    "id": "cA5dF4fn37Av"
   },
   "outputs": [],
   "source": [
    "n = 500 # number of sample\n",
    "x = 5.4 # mean of sample\n",
    "s = 3.1 # standard deviation of sample"
   ]
  },
  {
   "cell_type": "code",
   "execution_count": 15,
   "metadata": {
    "colab": {
     "base_uri": "https://localhost:8080/"
    },
    "id": "t0YcPvQcbCX2",
    "outputId": "f4cf6fd4-9793-479c-9172-b6f882b500bc"
   },
   "outputs": [
    {
     "data": {
      "text/plain": [
       "0.13863621460498696"
      ]
     },
     "execution_count": 15,
     "metadata": {},
     "output_type": "execute_result"
    }
   ],
   "source": [
    "# Calculate standard error of the mean.\n",
    "sem = s / np.sqrt(n)\n",
    "sem"
   ]
  },
  {
   "cell_type": "code",
   "execution_count": 17,
   "metadata": {
    "colab": {
     "base_uri": "https://localhost:8080/"
    },
    "id": "0nwafIU2eyvN",
    "outputId": "5adcb74e-de28-4587-d8cf-c4c4fc278131"
   },
   "outputs": [
    {
     "data": {
      "text/plain": [
       "(5.127617354510309, 5.672382645489692)"
      ]
     },
     "execution_count": 17,
     "metadata": {},
     "output_type": "execute_result"
    }
   ],
   "source": [
    "stats.t.interval(confidence = 0.95, df=n-1, loc = x, scale = sem)"
   ]
  },
  {
   "cell_type": "code",
   "execution_count": null,
   "metadata": {},
   "outputs": [],
   "source": []
  }
 ],
 "metadata": {
  "colab": {
   "provenance": []
  },
  "kernelspec": {
   "display_name": "Python 3 (ipykernel)",
   "language": "python",
   "name": "python3"
  },
  "language_info": {
   "codemirror_mode": {
    "name": "ipython",
    "version": 3
   },
   "file_extension": ".py",
   "mimetype": "text/x-python",
   "name": "python",
   "nbconvert_exporter": "python",
   "pygments_lexer": "ipython3",
   "version": "3.9.13"
  },
  "toc": {
   "base_numbering": 1,
   "nav_menu": {},
   "number_sections": false,
   "sideBar": true,
   "skip_h1_title": false,
   "title_cell": "Table of Contents",
   "title_sidebar": "Contents",
   "toc_cell": false,
   "toc_position": {},
   "toc_section_display": true,
   "toc_window_display": false
  }
 },
 "nbformat": 4,
 "nbformat_minor": 1
}
